{
 "cells": [
  {
   "cell_type": "code",
   "id": "initial_id",
   "metadata": {
    "collapsed": true,
    "ExecuteTime": {
     "end_time": "2024-09-28T20:08:25.438842Z",
     "start_time": "2024-09-28T20:08:24.824186Z"
    }
   },
   "source": "pip install python-dotenv",
   "outputs": [
    {
     "name": "stdout",
     "output_type": "stream",
     "text": [
      "Collecting python-dotenv\r\n",
      "  Using cached python_dotenv-1.0.1-py3-none-any.whl.metadata (23 kB)\r\n",
      "Using cached python_dotenv-1.0.1-py3-none-any.whl (19 kB)\r\n",
      "Installing collected packages: python-dotenv\r\n",
      "Successfully installed python-dotenv-1.0.1\r\n",
      "Note: you may need to restart the kernel to use updated packages.\n"
     ]
    }
   ],
   "execution_count": 5
  },
  {
   "metadata": {
    "ExecuteTime": {
     "end_time": "2024-09-28T20:08:52.676311Z",
     "start_time": "2024-09-28T20:08:52.087588Z"
    }
   },
   "cell_type": "code",
   "source": "pip install -r requirements.txt",
   "id": "b4c838c2b9845f1c",
   "outputs": [
    {
     "name": "stdout",
     "output_type": "stream",
     "text": [
      "Requirement already satisfied: nest-asyncio==1.6.0 in ./venv/lib/python3.11/site-packages (from -r requirements.txt (line 1)) (1.6.0)\r\n",
      "Requirement already satisfied: llama-cloud==0.1.0 in ./venv/lib/python3.11/site-packages (from -r requirements.txt (line 2)) (0.1.0)\r\n",
      "Requirement already satisfied: llama-index==0.11.14 in ./venv/lib/python3.11/site-packages (from -r requirements.txt (line 3)) (0.11.14)\r\n",
      "Requirement already satisfied: llama-index-agent-openai==0.3.4 in ./venv/lib/python3.11/site-packages (from -r requirements.txt (line 4)) (0.3.4)\r\n",
      "Requirement already satisfied: llama-index-cli==0.3.1 in ./venv/lib/python3.11/site-packages (from -r requirements.txt (line 5)) (0.3.1)\r\n",
      "Requirement already satisfied: llama-index-core==0.11.14 in ./venv/lib/python3.11/site-packages (from -r requirements.txt (line 6)) (0.11.14)\r\n",
      "Requirement already satisfied: llama-index-embeddings-openai==0.2.5 in ./venv/lib/python3.11/site-packages (from -r requirements.txt (line 7)) (0.2.5)\r\n",
      "Requirement already satisfied: llama-index-indices-managed-llama-cloud==0.4.0 in ./venv/lib/python3.11/site-packages (from -r requirements.txt (line 8)) (0.4.0)\r\n",
      "Requirement already satisfied: llama-index-legacy==0.9.48.post3 in ./venv/lib/python3.11/site-packages (from -r requirements.txt (line 9)) (0.9.48.post3)\r\n",
      "Requirement already satisfied: llama-index-llms-openai==0.2.9 in ./venv/lib/python3.11/site-packages (from -r requirements.txt (line 10)) (0.2.9)\r\n",
      "Requirement already satisfied: llama-index-multi-modal-llms-openai==0.2.1 in ./venv/lib/python3.11/site-packages (from -r requirements.txt (line 11)) (0.2.1)\r\n",
      "Requirement already satisfied: llama-index-program-openai==0.2.0 in ./venv/lib/python3.11/site-packages (from -r requirements.txt (line 12)) (0.2.0)\r\n",
      "Requirement already satisfied: llama-index-question-gen-openai==0.2.0 in ./venv/lib/python3.11/site-packages (from -r requirements.txt (line 13)) (0.2.0)\r\n",
      "Requirement already satisfied: llama-index-readers-file==0.2.2 in ./venv/lib/python3.11/site-packages (from -r requirements.txt (line 14)) (0.2.2)\r\n",
      "Requirement already satisfied: llama-index-readers-llama-parse==0.3.0 in ./venv/lib/python3.11/site-packages (from -r requirements.txt (line 15)) (0.3.0)\r\n",
      "Requirement already satisfied: ipykernel==6.29.5 in ./venv/lib/python3.11/site-packages (from -r requirements.txt (line 16)) (6.29.5)\r\n",
      "Requirement already satisfied: ipython==8.27.0 in ./venv/lib/python3.11/site-packages (from -r requirements.txt (line 17)) (8.27.0)\r\n",
      "Requirement already satisfied: helper==2.5.0 in ./venv/lib/python3.11/site-packages (from -r requirements.txt (line 18)) (2.5.0)\r\n",
      "Requirement already satisfied: utils==1.0.2 in ./venv/lib/python3.11/site-packages (from -r requirements.txt (line 19)) (1.0.2)\r\n",
      "Requirement already satisfied: python-dotenv==1.0.1 in ./venv/lib/python3.11/site-packages (from -r requirements.txt (line 20)) (1.0.1)\r\n",
      "Requirement already satisfied: httpx>=0.20.0 in ./venv/lib/python3.11/site-packages (from llama-cloud==0.1.0->-r requirements.txt (line 2)) (0.27.2)\r\n",
      "Requirement already satisfied: pydantic>=1.10 in ./venv/lib/python3.11/site-packages (from llama-cloud==0.1.0->-r requirements.txt (line 2)) (2.9.2)\r\n",
      "Requirement already satisfied: nltk>3.8.1 in ./venv/lib/python3.11/site-packages (from llama-index==0.11.14->-r requirements.txt (line 3)) (3.9.1)\r\n",
      "Requirement already satisfied: openai>=1.14.0 in ./venv/lib/python3.11/site-packages (from llama-index-agent-openai==0.3.4->-r requirements.txt (line 4)) (1.50.2)\r\n",
      "Requirement already satisfied: PyYAML>=6.0.1 in ./venv/lib/python3.11/site-packages (from llama-index-core==0.11.14->-r requirements.txt (line 6)) (6.0.2)\r\n",
      "Requirement already satisfied: SQLAlchemy>=1.4.49 in ./venv/lib/python3.11/site-packages (from SQLAlchemy[asyncio]>=1.4.49->llama-index-core==0.11.14->-r requirements.txt (line 6)) (2.0.35)\r\n",
      "Requirement already satisfied: aiohttp<4.0.0,>=3.8.6 in ./venv/lib/python3.11/site-packages (from llama-index-core==0.11.14->-r requirements.txt (line 6)) (3.10.7)\r\n",
      "Requirement already satisfied: dataclasses-json in ./venv/lib/python3.11/site-packages (from llama-index-core==0.11.14->-r requirements.txt (line 6)) (0.6.7)\r\n",
      "Requirement already satisfied: deprecated>=1.2.9.3 in ./venv/lib/python3.11/site-packages (from llama-index-core==0.11.14->-r requirements.txt (line 6)) (1.2.14)\r\n",
      "Requirement already satisfied: dirtyjson<2.0.0,>=1.0.8 in ./venv/lib/python3.11/site-packages (from llama-index-core==0.11.14->-r requirements.txt (line 6)) (1.0.8)\r\n",
      "Requirement already satisfied: fsspec>=2023.5.0 in ./venv/lib/python3.11/site-packages (from llama-index-core==0.11.14->-r requirements.txt (line 6)) (2024.9.0)\r\n",
      "Requirement already satisfied: networkx>=3.0 in ./venv/lib/python3.11/site-packages (from llama-index-core==0.11.14->-r requirements.txt (line 6)) (3.3)\r\n",
      "Requirement already satisfied: numpy<2.0.0 in ./venv/lib/python3.11/site-packages (from llama-index-core==0.11.14->-r requirements.txt (line 6)) (1.26.4)\r\n",
      "Requirement already satisfied: pillow>=9.0.0 in ./venv/lib/python3.11/site-packages (from llama-index-core==0.11.14->-r requirements.txt (line 6)) (10.4.0)\r\n",
      "Requirement already satisfied: requests>=2.31.0 in ./venv/lib/python3.11/site-packages (from llama-index-core==0.11.14->-r requirements.txt (line 6)) (2.32.3)\r\n",
      "Requirement already satisfied: tenacity!=8.4.0,<9.0.0,>=8.2.0 in ./venv/lib/python3.11/site-packages (from llama-index-core==0.11.14->-r requirements.txt (line 6)) (8.5.0)\r\n",
      "Requirement already satisfied: tiktoken>=0.3.3 in ./venv/lib/python3.11/site-packages (from llama-index-core==0.11.14->-r requirements.txt (line 6)) (0.7.0)\r\n",
      "Requirement already satisfied: tqdm<5.0.0,>=4.66.1 in ./venv/lib/python3.11/site-packages (from llama-index-core==0.11.14->-r requirements.txt (line 6)) (4.66.5)\r\n",
      "Requirement already satisfied: typing-extensions>=4.5.0 in ./venv/lib/python3.11/site-packages (from llama-index-core==0.11.14->-r requirements.txt (line 6)) (4.12.2)\r\n",
      "Requirement already satisfied: typing-inspect>=0.8.0 in ./venv/lib/python3.11/site-packages (from llama-index-core==0.11.14->-r requirements.txt (line 6)) (0.9.0)\r\n",
      "Requirement already satisfied: wrapt in ./venv/lib/python3.11/site-packages (from llama-index-core==0.11.14->-r requirements.txt (line 6)) (1.16.0)\r\n",
      "Requirement already satisfied: pandas in ./venv/lib/python3.11/site-packages (from llama-index-legacy==0.9.48.post3->-r requirements.txt (line 9)) (2.2.3)\r\n",
      "Requirement already satisfied: beautifulsoup4<5.0.0,>=4.12.3 in ./venv/lib/python3.11/site-packages (from llama-index-readers-file==0.2.2->-r requirements.txt (line 14)) (4.12.3)\r\n",
      "Requirement already satisfied: pypdf<5.0.0,>=4.0.1 in ./venv/lib/python3.11/site-packages (from llama-index-readers-file==0.2.2->-r requirements.txt (line 14)) (4.3.1)\r\n",
      "Requirement already satisfied: striprtf<0.0.27,>=0.0.26 in ./venv/lib/python3.11/site-packages (from llama-index-readers-file==0.2.2->-r requirements.txt (line 14)) (0.0.26)\r\n",
      "Requirement already satisfied: llama-parse>=0.5.0 in ./venv/lib/python3.11/site-packages (from llama-index-readers-llama-parse==0.3.0->-r requirements.txt (line 15)) (0.5.6)\r\n",
      "Requirement already satisfied: appnope in ./venv/lib/python3.11/site-packages (from ipykernel==6.29.5->-r requirements.txt (line 16)) (0.1.4)\r\n",
      "Requirement already satisfied: comm>=0.1.1 in ./venv/lib/python3.11/site-packages (from ipykernel==6.29.5->-r requirements.txt (line 16)) (0.2.2)\r\n",
      "Requirement already satisfied: debugpy>=1.6.5 in ./venv/lib/python3.11/site-packages (from ipykernel==6.29.5->-r requirements.txt (line 16)) (1.8.6)\r\n",
      "Requirement already satisfied: jupyter-client>=6.1.12 in ./venv/lib/python3.11/site-packages (from ipykernel==6.29.5->-r requirements.txt (line 16)) (8.6.3)\r\n",
      "Requirement already satisfied: jupyter-core!=5.0.*,>=4.12 in ./venv/lib/python3.11/site-packages (from ipykernel==6.29.5->-r requirements.txt (line 16)) (5.7.2)\r\n",
      "Requirement already satisfied: matplotlib-inline>=0.1 in ./venv/lib/python3.11/site-packages (from ipykernel==6.29.5->-r requirements.txt (line 16)) (0.1.7)\r\n",
      "Requirement already satisfied: packaging in ./venv/lib/python3.11/site-packages (from ipykernel==6.29.5->-r requirements.txt (line 16)) (24.1)\r\n",
      "Requirement already satisfied: psutil in ./venv/lib/python3.11/site-packages (from ipykernel==6.29.5->-r requirements.txt (line 16)) (6.0.0)\r\n",
      "Requirement already satisfied: pyzmq>=24 in ./venv/lib/python3.11/site-packages (from ipykernel==6.29.5->-r requirements.txt (line 16)) (26.2.0)\r\n",
      "Requirement already satisfied: tornado>=6.1 in ./venv/lib/python3.11/site-packages (from ipykernel==6.29.5->-r requirements.txt (line 16)) (6.4.1)\r\n",
      "Requirement already satisfied: traitlets>=5.4.0 in ./venv/lib/python3.11/site-packages (from ipykernel==6.29.5->-r requirements.txt (line 16)) (5.14.3)\r\n",
      "Requirement already satisfied: decorator in ./venv/lib/python3.11/site-packages (from ipython==8.27.0->-r requirements.txt (line 17)) (5.1.1)\r\n",
      "Requirement already satisfied: jedi>=0.16 in ./venv/lib/python3.11/site-packages (from ipython==8.27.0->-r requirements.txt (line 17)) (0.19.1)\r\n",
      "Requirement already satisfied: prompt-toolkit<3.1.0,>=3.0.41 in ./venv/lib/python3.11/site-packages (from ipython==8.27.0->-r requirements.txt (line 17)) (3.0.48)\r\n",
      "Requirement already satisfied: pygments>=2.4.0 in ./venv/lib/python3.11/site-packages (from ipython==8.27.0->-r requirements.txt (line 17)) (2.18.0)\r\n",
      "Requirement already satisfied: stack-data in ./venv/lib/python3.11/site-packages (from ipython==8.27.0->-r requirements.txt (line 17)) (0.6.3)\r\n",
      "Requirement already satisfied: pexpect>4.3 in ./venv/lib/python3.11/site-packages (from ipython==8.27.0->-r requirements.txt (line 17)) (4.9.0)\r\n",
      "Requirement already satisfied: aiohappyeyeballs>=2.3.0 in ./venv/lib/python3.11/site-packages (from aiohttp<4.0.0,>=3.8.6->llama-index-core==0.11.14->-r requirements.txt (line 6)) (2.4.2)\r\n",
      "Requirement already satisfied: aiosignal>=1.1.2 in ./venv/lib/python3.11/site-packages (from aiohttp<4.0.0,>=3.8.6->llama-index-core==0.11.14->-r requirements.txt (line 6)) (1.3.1)\r\n",
      "Requirement already satisfied: attrs>=17.3.0 in ./venv/lib/python3.11/site-packages (from aiohttp<4.0.0,>=3.8.6->llama-index-core==0.11.14->-r requirements.txt (line 6)) (24.2.0)\r\n",
      "Requirement already satisfied: frozenlist>=1.1.1 in ./venv/lib/python3.11/site-packages (from aiohttp<4.0.0,>=3.8.6->llama-index-core==0.11.14->-r requirements.txt (line 6)) (1.4.1)\r\n",
      "Requirement already satisfied: multidict<7.0,>=4.5 in ./venv/lib/python3.11/site-packages (from aiohttp<4.0.0,>=3.8.6->llama-index-core==0.11.14->-r requirements.txt (line 6)) (6.1.0)\r\n",
      "Requirement already satisfied: yarl<2.0,>=1.12.0 in ./venv/lib/python3.11/site-packages (from aiohttp<4.0.0,>=3.8.6->llama-index-core==0.11.14->-r requirements.txt (line 6)) (1.13.1)\r\n",
      "Requirement already satisfied: soupsieve>1.2 in ./venv/lib/python3.11/site-packages (from beautifulsoup4<5.0.0,>=4.12.3->llama-index-readers-file==0.2.2->-r requirements.txt (line 14)) (2.6)\r\n",
      "Requirement already satisfied: anyio in ./venv/lib/python3.11/site-packages (from httpx>=0.20.0->llama-cloud==0.1.0->-r requirements.txt (line 2)) (4.6.0)\r\n",
      "Requirement already satisfied: certifi in ./venv/lib/python3.11/site-packages (from httpx>=0.20.0->llama-cloud==0.1.0->-r requirements.txt (line 2)) (2024.8.30)\r\n",
      "Requirement already satisfied: httpcore==1.* in ./venv/lib/python3.11/site-packages (from httpx>=0.20.0->llama-cloud==0.1.0->-r requirements.txt (line 2)) (1.0.5)\r\n",
      "Requirement already satisfied: idna in ./venv/lib/python3.11/site-packages (from httpx>=0.20.0->llama-cloud==0.1.0->-r requirements.txt (line 2)) (3.10)\r\n",
      "Requirement already satisfied: sniffio in ./venv/lib/python3.11/site-packages (from httpx>=0.20.0->llama-cloud==0.1.0->-r requirements.txt (line 2)) (1.3.1)\r\n",
      "Requirement already satisfied: h11<0.15,>=0.13 in ./venv/lib/python3.11/site-packages (from httpcore==1.*->httpx>=0.20.0->llama-cloud==0.1.0->-r requirements.txt (line 2)) (0.14.0)\r\n",
      "Requirement already satisfied: parso<0.9.0,>=0.8.3 in ./venv/lib/python3.11/site-packages (from jedi>=0.16->ipython==8.27.0->-r requirements.txt (line 17)) (0.8.4)\r\n",
      "Requirement already satisfied: python-dateutil>=2.8.2 in ./venv/lib/python3.11/site-packages (from jupyter-client>=6.1.12->ipykernel==6.29.5->-r requirements.txt (line 16)) (2.9.0.post0)\r\n",
      "Requirement already satisfied: platformdirs>=2.5 in ./venv/lib/python3.11/site-packages (from jupyter-core!=5.0.*,>=4.12->ipykernel==6.29.5->-r requirements.txt (line 16)) (4.3.6)\r\n",
      "Requirement already satisfied: click in ./venv/lib/python3.11/site-packages (from nltk>3.8.1->llama-index==0.11.14->-r requirements.txt (line 3)) (8.1.7)\r\n",
      "Requirement already satisfied: joblib in ./venv/lib/python3.11/site-packages (from nltk>3.8.1->llama-index==0.11.14->-r requirements.txt (line 3)) (1.4.2)\r\n",
      "Requirement already satisfied: regex>=2021.8.3 in ./venv/lib/python3.11/site-packages (from nltk>3.8.1->llama-index==0.11.14->-r requirements.txt (line 3)) (2024.9.11)\r\n",
      "Requirement already satisfied: distro<2,>=1.7.0 in ./venv/lib/python3.11/site-packages (from openai>=1.14.0->llama-index-agent-openai==0.3.4->-r requirements.txt (line 4)) (1.9.0)\r\n",
      "Requirement already satisfied: jiter<1,>=0.4.0 in ./venv/lib/python3.11/site-packages (from openai>=1.14.0->llama-index-agent-openai==0.3.4->-r requirements.txt (line 4)) (0.5.0)\r\n",
      "Requirement already satisfied: ptyprocess>=0.5 in ./venv/lib/python3.11/site-packages (from pexpect>4.3->ipython==8.27.0->-r requirements.txt (line 17)) (0.7.0)\r\n",
      "Requirement already satisfied: wcwidth in ./venv/lib/python3.11/site-packages (from prompt-toolkit<3.1.0,>=3.0.41->ipython==8.27.0->-r requirements.txt (line 17)) (0.2.13)\r\n",
      "Requirement already satisfied: annotated-types>=0.6.0 in ./venv/lib/python3.11/site-packages (from pydantic>=1.10->llama-cloud==0.1.0->-r requirements.txt (line 2)) (0.7.0)\r\n",
      "Requirement already satisfied: pydantic-core==2.23.4 in ./venv/lib/python3.11/site-packages (from pydantic>=1.10->llama-cloud==0.1.0->-r requirements.txt (line 2)) (2.23.4)\r\n",
      "Requirement already satisfied: charset-normalizer<4,>=2 in ./venv/lib/python3.11/site-packages (from requests>=2.31.0->llama-index-core==0.11.14->-r requirements.txt (line 6)) (3.3.2)\r\n",
      "Requirement already satisfied: urllib3<3,>=1.21.1 in ./venv/lib/python3.11/site-packages (from requests>=2.31.0->llama-index-core==0.11.14->-r requirements.txt (line 6)) (2.2.3)\r\n",
      "Requirement already satisfied: greenlet!=0.4.17 in ./venv/lib/python3.11/site-packages (from SQLAlchemy[asyncio]>=1.4.49->llama-index-core==0.11.14->-r requirements.txt (line 6)) (3.1.1)\r\n",
      "Requirement already satisfied: mypy-extensions>=0.3.0 in ./venv/lib/python3.11/site-packages (from typing-inspect>=0.8.0->llama-index-core==0.11.14->-r requirements.txt (line 6)) (1.0.0)\r\n",
      "Requirement already satisfied: marshmallow<4.0.0,>=3.18.0 in ./venv/lib/python3.11/site-packages (from dataclasses-json->llama-index-core==0.11.14->-r requirements.txt (line 6)) (3.22.0)\r\n",
      "Requirement already satisfied: pytz>=2020.1 in ./venv/lib/python3.11/site-packages (from pandas->llama-index-legacy==0.9.48.post3->-r requirements.txt (line 9)) (2024.2)\r\n",
      "Requirement already satisfied: tzdata>=2022.7 in ./venv/lib/python3.11/site-packages (from pandas->llama-index-legacy==0.9.48.post3->-r requirements.txt (line 9)) (2024.2)\r\n",
      "Requirement already satisfied: executing>=1.2.0 in ./venv/lib/python3.11/site-packages (from stack-data->ipython==8.27.0->-r requirements.txt (line 17)) (2.1.0)\r\n",
      "Requirement already satisfied: asttokens>=2.1.0 in ./venv/lib/python3.11/site-packages (from stack-data->ipython==8.27.0->-r requirements.txt (line 17)) (2.4.1)\r\n",
      "Requirement already satisfied: pure-eval in ./venv/lib/python3.11/site-packages (from stack-data->ipython==8.27.0->-r requirements.txt (line 17)) (0.2.3)\r\n",
      "Requirement already satisfied: six>=1.12.0 in ./venv/lib/python3.11/site-packages (from asttokens>=2.1.0->stack-data->ipython==8.27.0->-r requirements.txt (line 17)) (1.16.0)\r\n",
      "Note: you may need to restart the kernel to use updated packages.\n"
     ]
    }
   ],
   "execution_count": 7
  },
  {
   "metadata": {
    "ExecuteTime": {
     "end_time": "2024-09-28T20:08:30.369956Z",
     "start_time": "2024-09-28T20:08:30.044841Z"
    }
   },
   "cell_type": "code",
   "source": "pip freeze > req.txt",
   "id": "368f219b5a3d8251",
   "outputs": [
    {
     "name": "stdout",
     "output_type": "stream",
     "text": [
      "Note: you may need to restart the kernel to use updated packages.\n"
     ]
    }
   ],
   "execution_count": 6
  },
  {
   "metadata": {
    "ExecuteTime": {
     "end_time": "2024-09-28T20:21:59.723347Z",
     "start_time": "2024-09-28T20:21:59.265758Z"
    }
   },
   "cell_type": "code",
   "source": [
    "from helper import get_openai_api_key\n",
    "from llama_index.core import SimpleDirectoryReader\n",
    "from llama_index.core.node_parser import SentenceSplitter\n",
    "from llama_index.core import Settings\n",
    "from llama_index.llms.openai import OpenAI\n",
    "from llama_index.embeddings.openai import OpenAIEmbedding\n",
    "from llama_index.core import SummaryIndex, VectorStoreIndex\n",
    "from llama_index.core.tools import QueryEngineTool\n",
    "from llama_index.core.query_engine.router_query_engine import RouterQueryEngine\n",
    "from llama_index.core.selectors import LLMSingleSelector\n",
    "import nest_asyncio"
   ],
   "id": "9e18f4858da33932",
   "outputs": [],
   "execution_count": 14
  },
  {
   "metadata": {
    "ExecuteTime": {
     "end_time": "2024-09-28T20:12:05.217328Z",
     "start_time": "2024-09-28T20:12:05.214908Z"
    }
   },
   "cell_type": "code",
   "source": "nest_asyncio.apply()",
   "id": "4111cccf1149249c",
   "outputs": [],
   "execution_count": 10
  },
  {
   "metadata": {
    "ExecuteTime": {
     "end_time": "2024-09-28T20:19:14.704893Z",
     "start_time": "2024-09-28T20:19:14.351775Z"
    }
   },
   "cell_type": "code",
   "source": [
    "# Load the documents\n",
    "documents = SimpleDirectoryReader(input_files=['./data/NIPS-2017-attention-is-all-you-need-Paper.pdf']).load_data()"
   ],
   "id": "6e06ea33e9eac574",
   "outputs": [],
   "execution_count": 13
  },
  {
   "metadata": {},
   "cell_type": "code",
   "outputs": [],
   "execution_count": null,
   "source": "# ",
   "id": "71793452fb977078"
  }
 ],
 "metadata": {
  "kernelspec": {
   "display_name": "Python 3",
   "language": "python",
   "name": "python3"
  },
  "language_info": {
   "codemirror_mode": {
    "name": "ipython",
    "version": 2
   },
   "file_extension": ".py",
   "mimetype": "text/x-python",
   "name": "python",
   "nbconvert_exporter": "python",
   "pygments_lexer": "ipython2",
   "version": "2.7.6"
  }
 },
 "nbformat": 4,
 "nbformat_minor": 5
}
